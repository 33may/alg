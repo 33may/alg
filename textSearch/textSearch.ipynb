{
 "cells": [
  {
   "cell_type": "code",
   "execution_count": 3,
   "id": "initial_id",
   "metadata": {
    "collapsed": true,
    "ExecuteTime": {
     "end_time": "2024-03-27T00:59:34.281258Z",
     "start_time": "2024-03-27T00:59:34.268292Z"
    }
   },
   "outputs": [],
   "source": [
    "import matplotlib.pyplot as plt\n",
    "import random\n",
    "import numpy as np\n",
    "import string"
   ]
  },
  {
   "cell_type": "code",
   "outputs": [],
   "source": [
    "sentence_dict = []\n",
    "\n",
    "\n",
    "subjects = [\n",
    "    \"The quick brown fox\", \"Patience\", \"A single idea\", \"The wise owl\",\n",
    "    \"Every seashell\", \"Curiosity\", \"Bravery\", \"The whispering wind\",\n",
    "    \"The early bird\", \"Legends\", \"The wandering river\", \"A fleeting shadow\",\n",
    "    \"The lone wolf\", \"An ancient tree\", \"The last star\", \"A forgotten melody\",\n",
    "    \"The restless sea\", \"A distant memory\", \"The dancing flame\", \"An old legend\"\n",
    "]\n",
    "\n",
    "verbs = [\n",
    "    \"jumps over\", \"harbors\", \"sparks\", \"shares its\", \"whispers\",\n",
    "    \"fuels\", \"is the first step on\", \"carries\", \"finds\", \"awake in\",\n",
    "    \"illuminates\", \"challenges\", \"embraces\", \"conceals\", \"reveals\",\n",
    "    \"echoes through\", \"wanders\", \"stands against\", \"holds onto\", \"dreams of\"\n",
    "]\n",
    "\n",
    "objects = [\n",
    "    \"lazy doubts\", \"great rewards\", \"a journey of infinite possibilities\", \"wisdom\",\n",
    "    \"secrets of the deep\", \"the adventures\", \"the path to undiscovered wonders\",\n",
    "    \"tales of ancient mysteries\", \"the treasures of tomorrow\", \"the whispers of the ancient trees\",\n",
    "    \"unspoken truths\", \"hidden fears\", \"forgotten worlds\", \"eternal questions\",\n",
    "    \"silent voices\", \"endless horizons\", \"the edge of the world\", \"the heart of the storm\",\n",
    "    \"the fabric of reality\", \"the course of fate\"\n",
    "]\n",
    "\n",
    "complements = [\n",
    "    \"under a moonlit sky\", \"for those who dare to dream\", \"with every step\",\n",
    "    \"in the garden of curiosity\", \"to those who listen\", \"in the heart of the storm\",\n",
    "    \"among the uncharted dreams\", \"with open eyes\", \"in the melody of nature\", \"through the strings of time\",\n",
    "    \"beyond the veil of night\", \"under the ancient sun\", \"across the sands of time\",\n",
    "    \"along the path less traveled\", \"beneath the endless sky\", \"within the hidden depths\",\n",
    "    \"across the silent seas\", \"before the world awakes\", \"beneath the cloak of shadows\", \"within the whispering winds\"\n",
    "]\n",
    "\n",
    "\n",
    "# Generating 200 sentences\n",
    "for _ in range(1000):\n",
    "    subject = random.choice(subjects)\n",
    "    verb = random.choice(verbs)\n",
    "    object_ = random.choice(objects)\n",
    "    complement = random.choice(complements)\n",
    "    sentence = f\"{subject} {verb} {object_} {complement}.\"\n",
    "    sentence_dict.append(sentence)\n",
    "\n",
    "\n",
    "all_words = \" \".join(sentence_dict).replace(\",\", \"\").replace(\".\", \"\").split()\n",
    "words_dict = list(set(all_words))\n",
    "\n",
    "def generate_array(size, type='int', min=\"empty\", max=\"empty\", unique=False):\n",
    "    if type == 'Int':\n",
    "        return generate_int_array(size, min, max, unique)\n",
    "    elif type == 'String_Sentences':\n",
    "        return generate_words_array(size, unique)\n",
    "    elif type == 'String_words':\n",
    "        return generate_sentences_array(size, unique)\n",
    "    elif type == 'Char':\n",
    "        return generate_chars_array(size, unique)\n",
    "    elif type == 'Bool':\n",
    "        return [random.choice([True, False]) for _ in range(size)]\n",
    "    elif type == 'Real':\n",
    "        return generate_real_array(size, min, max, unique)\n",
    "    else:\n",
    "        raise ValueError(\"Unsupported array type\")\n",
    "\n",
    "def generate_int_array(size, min = \"empty\", max = \"empty\", unique = False):\n",
    "    peak = size // 2\n",
    "    if min == \"empty\" or not isinstance(min, int):\n",
    "        min = - peak\n",
    "    if max == \"empty\" or not isinstance(max, int):\n",
    "        max = peak\n",
    "    if unique:\n",
    "        if max - min + 1 < size:\n",
    "            raise ValueError(\"Range between min and max is too small for the requested unique array length.\")\n",
    "        return random.sample(range(min, max + 1), size)\n",
    "    else:\n",
    "        return [random.randint(min, max) for _ in range(size)]\n",
    "\n",
    "def generate_words_array(size, unique = False):\n",
    "    if unique and size <= len(words_dict):\n",
    "        return random.sample(words_dict, size)\n",
    "    else:\n",
    "        return [random.choice(words_dict) for _ in range(size)]\n",
    "\n",
    "def generate_sentences_array(size, unique = False):\n",
    "    if unique:\n",
    "        unique_sentences = list(set(sentence_dict))  # Ensure sentences are unique by converting to set\n",
    "        if size <= len(unique_sentences):\n",
    "            return random.sample(unique_sentences, size)\n",
    "        else:\n",
    "            raise ValueError(\"Not enough unique sentences for the requested size.\")\n",
    "    else:\n",
    "        return [random.choice(sentence_dict) for _ in range(size)]\n",
    "\n",
    "def generate_chars_array(size, unique = False):\n",
    "    chars = list(set(\"\".join(words_dict)))  # Unique characters from all words\n",
    "    if unique:\n",
    "        if size <= len(chars):\n",
    "            return random.sample(chars, size)\n",
    "        else:\n",
    "            raise ValueError(\"Not enough unique characters for the requested size.\")\n",
    "    else:\n",
    "        return [random.choice(chars) for _ in range(size)]\n",
    "\n",
    "def generate_bool_array(size):\n",
    "    return [random.choice([True, False]) for _ in range(size)]\n",
    "\n",
    "def generate_real_array(size,  min = \"empty\", max = \"empty\", unique = False):\n",
    "    peak = size / 2\n",
    "    if min == \"empty\" or not isinstance(min, (int, float)):\n",
    "        min = -peak\n",
    "    if max == \"empty\" or not isinstance(max, (int, float)):\n",
    "        max = peak\n",
    "    if unique:\n",
    "        unique_reals = set()\n",
    "        while len(unique_reals) < size:\n",
    "            unique_reals.add(random.uniform(min, max))\n",
    "        return list(unique_reals)\n",
    "    else:\n",
    "        return [random.uniform(min, max) for _ in range(size)]\n",
    "\n",
    "def generate_sample(arr_type='int'):\n",
    "    samples = [1, 10, 100, 1000, 10000]\n",
    "    text_samples = [1, 10, 100, 1000]\n",
    "    \n",
    "    res = []\n",
    "    for size in samples:\n",
    "        if arr_type == 'Int':\n",
    "            array = generate_int_array(size)\n",
    "        elif arr_type == 'String_Words':\n",
    "            array = generate_words_array(size)\n",
    "        elif arr_type == 'String_Sentences':\n",
    "            array = generate_sentences_array(size)\n",
    "        elif arr_type == 'Char':\n",
    "            array = generate_chars_array(size)\n",
    "        elif arr_type == 'Bool':\n",
    "            array = generate_bool_array(size)\n",
    "        elif arr_type == 'Real':\n",
    "            array = generate_real_array(size)\n",
    "        else:\n",
    "            raise ValueError(\"Unsupported array type\")\n",
    "        res.append(array)\n",
    "        \n",
    "    return res\n",
    "\n",
    "\n",
    "def is_sorted(lst):\n",
    "    return all(lst[i] <= lst[i+1] for i in range(len(lst)-1))\n",
    "\n",
    "\n",
    "def o_graph(n_o_pairs):\n",
    "    x_funcs = np.arange(1, max(n_o_pairs)[0] + 1)\n",
    "    y_linear = x_funcs\n",
    "    y_quadratic = x_funcs**2\n",
    "    y_logarithmic = np.log(x_funcs)\n",
    "    y_linear_log = x_funcs * np.log(x_funcs)\n",
    "    y_exponential = 2**x_funcs\n",
    "\n",
    "    for i in range(1, len(y_exponential)):\n",
    "        y_exponential[i] = max(y_exponential[i], y_exponential[i-1])\n",
    "\n",
    "    plt.figure(figsize=(10, 6))\n",
    "\n",
    "    plt.plot(x_funcs, y_linear, label='O(n)', linewidth=2 ,alpha=0.5)\n",
    "    plt.plot(x_funcs, y_quadratic, label='O(n^2)', linewidth=2 ,alpha=0.5)\n",
    "    plt.plot(x_funcs, y_logarithmic, label='O(log n)', linewidth=2 ,alpha=0.5)\n",
    "    plt.plot(x_funcs, y_linear_log, label='O(n log n)', linewidth=2 ,alpha=0.5)\n",
    "    plt.plot(x_funcs, y_exponential, label='O(2^n)', linewidth=2 ,alpha=0.5)\n",
    "\n",
    "    n, o = zip(*n_o_pairs)\n",
    "    plt.plot(n, o, marker='o', color='green',  linewidth=2, label='Result', zorder=5, markersize=5)\n",
    "\n",
    "    plt.title('Algorithm Complexity Graph')\n",
    "    plt.xlabel('Input Size (n)')\n",
    "    plt.ylabel('Number of Operations')\n",
    "    plt.xscale('log')\n",
    "    plt.yscale('log')\n",
    "    plt.xlim(1, max(x_funcs))\n",
    "    plt.ylim(1, max(o))\n",
    "    plt.legend()\n",
    "\n",
    "    plt.show()\n",
    "\n",
    "\n",
    "plt.ion()\n",
    "\n",
    "def visualize_sort(steps):\n",
    "    print(steps[-1])\n",
    "    plt.figure(figsize=(5, 4))\n",
    "    global_min = min(min(s) for s in steps)\n",
    "    global_max = max(max(s) for s in steps)\n",
    "\n",
    "    for i, step in enumerate(steps):\n",
    "        plt.cla()\n",
    "\n",
    "        plt.ylim(global_min - 1, global_max + 1)\n",
    "        plt.xticks([])\n",
    "        plt.yticks([])\n",
    "        plt.bar(range(len(step)), [0.05 if val == 0 else val for val in step], color='skyblue')\n",
    "        plt.xlabel(f\"Step {i}\")\n",
    "        plt.pause(0.5)\n",
    "\n",
    "    plt.show()"
   ],
   "metadata": {
    "collapsed": false,
    "ExecuteTime": {
     "end_time": "2024-03-27T10:26:56.359967Z",
     "start_time": "2024-03-27T10:26:56.283169Z"
    }
   },
   "id": "12d919abda352238",
   "execution_count": 60
  },
  {
   "cell_type": "code",
   "outputs": [],
   "source": [
    "def linear_search(array, value):\n",
    "    count = 0\n",
    "    for i in range(len(array)):\n",
    "        if array[i].lower() == value.lower():\n",
    "            count += 1\n",
    "    return count"
   ],
   "metadata": {
    "collapsed": false,
    "ExecuteTime": {
     "end_time": "2024-03-27T10:26:56.942410Z",
     "start_time": "2024-03-27T10:26:56.922463Z"
    }
   },
   "id": "3eba7a42653c565f",
   "execution_count": 61
  },
  {
   "cell_type": "code",
   "outputs": [
    {
     "name": "stdout",
     "output_type": "stream",
     "text": [
      "5\n"
     ]
    }
   ],
   "source": [
    "def binary_search(array, value):\n",
    "    # implemnt quicksort\n",
    "    array = [element.lower() for element in array]\n",
    "    array.sort()\n",
    "    length = len(array)\n",
    "    start = 0\n",
    "    end = length - 1\n",
    "    while start <= end:\n",
    "        index = (start + end) // 2\n",
    "        if array[index] == value:\n",
    "            return index\n",
    "        elif array[index] < value:\n",
    "            start = index + 1\n",
    "        else:\n",
    "            end = index - 1\n",
    "\n",
    "def count_binary(array, value):\n",
    "    res = 0\n",
    "    length = len(array)\n",
    "    indexl = indexr = binary_search(array, value)\n",
    "    while True:\n",
    "        if array[indexl] == value:\n",
    "            res +=1\n",
    "            indexl -= 1\n",
    "        else:\n",
    "            break\n",
    "    while True:\n",
    "        if array[indexr + 1] == value and indexr != length - 1:\n",
    "            res +=1\n",
    "            indexr += 1\n",
    "        else:\n",
    "            break\n",
    "    return res\n",
    "\n",
    "b = ['wolf',\n",
    "     'wolf',\n",
    "     'wonders',\n",
    "     'wonders',\n",
    "     'wonders',\n",
    "     'wonders',\n",
    "     'world',\n",
    "     'world',\n",
    "     'world',\n",
    "     'world',\n",
    "     'world',\n",
    "     'worlds',\n",
    "     'worlds',\n",
    "     'worlds',\n",
    "     'worlds']\n",
    "\n",
    "print(count_binary(b, \"world\"))"
   ],
   "metadata": {
    "collapsed": false,
    "ExecuteTime": {
     "end_time": "2024-03-27T10:26:57.681435Z",
     "start_time": "2024-03-27T10:26:57.657499Z"
    }
   },
   "id": "852d3182d01963",
   "execution_count": 62
  },
  {
   "cell_type": "code",
   "outputs": [
    {
     "data": {
      "text/plain": "['A',\n 'A',\n 'A',\n 'A',\n 'A',\n 'A',\n 'A',\n 'An',\n 'An',\n 'An',\n 'An',\n 'Bravery',\n 'Bravery',\n 'Bravery',\n 'Bravery',\n 'Bravery',\n 'Bravery',\n 'Curiosity',\n 'Curiosity',\n 'Every',\n 'Every',\n 'Every',\n 'Every',\n 'Every',\n 'Every',\n 'Every',\n 'Legends',\n 'Legends',\n 'Legends',\n 'Legends',\n 'Legends',\n 'Patience',\n 'Patience',\n 'Patience',\n 'Patience',\n 'Patience',\n 'Patience',\n 'Patience',\n 'Patience',\n 'The',\n 'The',\n 'The',\n 'The',\n 'The',\n 'The',\n 'The',\n 'The',\n 'The',\n 'The',\n 'a',\n 'a',\n 'a',\n 'a',\n 'a',\n 'across',\n 'across',\n 'across',\n 'across',\n 'across',\n 'across',\n 'adventures',\n 'adventures',\n 'adventures',\n 'adventures',\n 'adventures',\n 'adventures',\n 'adventures',\n 'adventures',\n 'against',\n 'against',\n 'against',\n 'against',\n 'against',\n 'against',\n 'against',\n 'against',\n 'along',\n 'along',\n 'along',\n 'along',\n 'along',\n 'along',\n 'along',\n 'among',\n 'among',\n 'among',\n 'among',\n 'among',\n 'among',\n 'ancient',\n 'ancient',\n 'ancient',\n 'ancient',\n 'ancient',\n 'ancient',\n 'ancient',\n 'ancient',\n 'awake',\n 'awake',\n 'awake',\n 'awake',\n 'awake',\n 'awake',\n 'awake',\n 'awakes',\n 'awakes',\n 'awakes',\n 'awakes',\n 'awakes',\n 'awakes',\n 'awakes',\n 'awakes',\n 'awakes',\n 'awakes',\n 'before',\n 'before',\n 'before',\n 'before',\n 'before',\n 'before',\n 'before',\n 'before',\n 'before',\n 'before',\n 'beneath',\n 'beneath',\n 'beneath',\n 'beneath',\n 'beneath',\n 'beneath',\n 'beneath',\n 'beneath',\n 'beneath',\n 'beyond',\n 'beyond',\n 'beyond',\n 'beyond',\n 'beyond',\n 'beyond',\n 'beyond',\n 'beyond',\n 'beyond',\n 'beyond',\n 'bird',\n 'bird',\n 'bird',\n 'bird',\n 'bird',\n 'bird',\n 'bird',\n 'bird',\n 'brown',\n 'brown',\n 'brown',\n 'brown',\n 'brown',\n 'brown',\n 'brown',\n 'carries',\n 'carries',\n 'carries',\n 'carries',\n 'challenges',\n 'challenges',\n 'challenges',\n 'challenges',\n 'challenges',\n 'challenges',\n 'challenges',\n 'challenges',\n 'cloak',\n 'cloak',\n 'conceals',\n 'conceals',\n 'conceals',\n 'conceals',\n 'conceals',\n 'conceals',\n 'conceals',\n 'course',\n 'course',\n 'course',\n 'course',\n 'course',\n 'course',\n 'course',\n 'course',\n 'course',\n 'course',\n 'course',\n 'course',\n 'course',\n 'curiosity',\n 'curiosity',\n 'dancing',\n 'dancing',\n 'dancing',\n 'dancing',\n 'dare',\n 'dare',\n 'dare',\n 'dare',\n 'dare',\n 'dare',\n 'deep',\n 'deep',\n 'deep',\n 'deep',\n 'deep',\n 'deep',\n 'depths',\n 'depths',\n 'depths',\n 'depths',\n 'depths',\n 'depths',\n 'distant',\n 'distant',\n 'distant',\n 'doubts',\n 'doubts',\n 'dream',\n 'dream',\n 'dream',\n 'dream',\n 'dream',\n 'dreams',\n 'dreams',\n 'dreams',\n 'dreams',\n 'dreams',\n 'dreams',\n 'dreams',\n 'dreams',\n 'dreams',\n 'early',\n 'early',\n 'early',\n 'early',\n 'early',\n 'early',\n 'early',\n 'early',\n 'early',\n 'early',\n 'early',\n 'echoes',\n 'echoes',\n 'echoes',\n 'echoes',\n 'edge',\n 'edge',\n 'edge',\n 'edge',\n 'edge',\n 'edge',\n 'edge',\n 'embraces',\n 'embraces',\n 'endless',\n 'endless',\n 'endless',\n 'endless',\n 'endless',\n 'endless',\n 'endless',\n 'endless',\n 'endless',\n 'endless',\n 'eternal',\n 'eternal',\n 'eternal',\n 'eternal',\n 'eternal',\n 'eternal',\n 'eternal',\n 'eternal',\n 'eternal',\n 'eternal',\n 'every',\n 'every',\n 'every',\n 'every',\n 'every',\n 'eyes',\n 'eyes',\n 'eyes',\n 'eyes',\n 'eyes',\n 'fabric',\n 'fate',\n 'fate',\n 'fate',\n 'fate',\n 'fears',\n 'fears',\n 'fears',\n 'fears',\n 'fears',\n 'fears',\n 'fears',\n 'fears',\n 'finds',\n 'finds',\n 'finds',\n 'finds',\n 'finds',\n 'finds',\n 'first',\n 'first',\n 'first',\n 'flame',\n 'flame',\n 'flame',\n 'flame',\n 'flame',\n 'flame',\n 'flame',\n 'flame',\n 'fleeting',\n 'fleeting',\n 'fleeting',\n 'fleeting',\n 'fleeting',\n 'fleeting',\n 'fleeting',\n 'fleeting',\n 'fleeting',\n 'for',\n 'for',\n 'for',\n 'for',\n 'for',\n 'for',\n 'forgotten',\n 'forgotten',\n 'forgotten',\n 'forgotten',\n 'forgotten',\n 'forgotten',\n 'forgotten',\n 'forgotten',\n 'fox',\n 'fox',\n 'fox',\n 'fox',\n 'fuels',\n 'fuels',\n 'fuels',\n 'fuels',\n 'fuels',\n 'fuels',\n 'fuels',\n 'garden',\n 'garden',\n 'garden',\n 'garden',\n 'garden',\n 'garden',\n 'garden',\n 'great',\n 'great',\n 'great',\n 'great',\n 'great',\n 'great',\n 'great',\n 'great',\n 'harbors',\n 'harbors',\n 'harbors',\n 'harbors',\n 'harbors',\n 'harbors',\n 'harbors',\n 'heart',\n 'heart',\n 'heart',\n 'heart',\n 'heart',\n 'heart',\n 'heart',\n 'heart',\n 'hidden',\n 'hidden',\n 'hidden',\n 'hidden',\n 'hidden',\n 'hidden',\n 'holds',\n 'holds',\n 'holds',\n 'holds',\n 'holds',\n 'holds',\n 'holds',\n 'horizons',\n 'horizons',\n 'horizons',\n 'horizons',\n 'horizons',\n 'horizons',\n 'horizons',\n 'horizons',\n 'idea',\n 'idea',\n 'idea',\n 'idea',\n 'idea',\n 'idea',\n 'illuminates',\n 'illuminates',\n 'illuminates',\n 'illuminates',\n 'illuminates',\n 'illuminates',\n 'illuminates',\n 'in',\n 'in',\n 'in',\n 'in',\n 'in',\n 'infinite',\n 'infinite',\n 'infinite',\n 'infinite',\n 'infinite',\n 'is',\n 'is',\n 'is',\n 'is',\n 'is',\n 'is',\n 'its',\n 'its',\n 'its',\n 'its',\n 'its',\n 'journey',\n 'journey',\n 'journey',\n 'journey',\n 'journey',\n 'journey',\n 'journey',\n 'journey',\n 'jumps',\n 'jumps',\n 'jumps',\n 'jumps',\n 'jumps',\n 'jumps',\n 'jumps',\n 'jumps',\n 'last',\n 'last',\n 'last',\n 'last',\n 'last',\n 'last',\n 'last',\n 'lazy',\n 'lazy',\n 'lazy',\n 'lazy',\n 'lazy',\n 'lazy',\n 'lazy',\n 'lazy',\n 'legend',\n 'legend',\n 'legend',\n 'legend',\n 'legend',\n 'legend',\n 'legend',\n 'legend',\n 'less',\n 'less',\n 'less',\n 'less',\n 'less',\n 'less',\n 'less',\n 'less',\n 'listen',\n 'listen',\n 'listen',\n 'listen',\n 'listen',\n 'listen',\n 'listen',\n 'listen',\n 'listen',\n 'listen',\n 'lone',\n 'lone',\n 'lone',\n 'lone',\n 'lone',\n 'lone',\n 'lone',\n 'melody',\n 'melody',\n 'melody',\n 'melody',\n 'melody',\n 'melody',\n 'melody',\n 'melody',\n 'melody',\n 'memory',\n 'memory',\n 'memory',\n 'memory',\n 'memory',\n 'memory',\n 'memory',\n 'memory',\n 'memory',\n 'moonlit',\n 'moonlit',\n 'moonlit',\n 'moonlit',\n 'moonlit',\n 'moonlit',\n 'mysteries',\n 'mysteries',\n 'mysteries',\n 'mysteries',\n 'mysteries',\n 'mysteries',\n 'mysteries',\n 'mysteries',\n 'mysteries',\n 'nature',\n 'nature',\n 'nature',\n 'nature',\n 'nature',\n 'nature',\n 'nature',\n 'nature',\n 'nature',\n 'nature',\n 'night',\n 'night',\n 'night',\n 'night',\n 'night',\n 'night',\n 'of',\n 'of',\n 'of',\n 'of',\n 'of',\n 'of',\n 'of',\n 'of',\n 'of',\n 'old',\n 'old',\n 'old',\n 'old',\n 'old',\n 'old',\n 'on',\n 'on',\n 'on',\n 'on',\n 'on',\n 'on',\n 'on',\n 'on',\n 'on',\n 'onto',\n 'onto',\n 'onto',\n 'onto',\n 'onto',\n 'open',\n 'open',\n 'open',\n 'open',\n 'open',\n 'open',\n 'open',\n 'over',\n 'over',\n 'over',\n 'over',\n 'over',\n 'over',\n 'over',\n 'over',\n 'owl',\n 'owl',\n 'owl',\n 'owl',\n 'owl',\n 'owl',\n 'owl',\n 'owl',\n 'path',\n 'path',\n 'possibilities',\n 'possibilities',\n 'possibilities',\n 'possibilities',\n 'possibilities',\n 'possibilities',\n 'possibilities',\n 'possibilities',\n 'questions',\n 'questions',\n 'questions',\n 'questions',\n 'questions',\n 'questions',\n 'questions',\n 'questions',\n 'quick',\n 'quick',\n 'quick',\n 'quick',\n 'quick',\n 'quick',\n 'quick',\n 'quick',\n 'quick',\n 'reality',\n 'reality',\n 'restless',\n 'restless',\n 'restless',\n 'restless',\n 'restless',\n 'restless',\n 'restless',\n 'reveals',\n 'reveals',\n 'reveals',\n 'reveals',\n 'reveals',\n 'rewards',\n 'rewards',\n 'rewards',\n 'rewards',\n 'rewards',\n 'river',\n 'river',\n 'river',\n 'river',\n 'river',\n 'river',\n 'river',\n 'river',\n 'river',\n 'sands',\n 'sands',\n 'sands',\n 'sands',\n 'sands',\n 'sea',\n 'sea',\n 'sea',\n 'sea',\n 'sea',\n 'seas',\n 'seas',\n 'seas',\n 'seashell',\n 'seashell',\n 'seashell',\n 'seashell',\n 'seashell',\n 'seashell',\n 'seashell',\n 'seashell',\n 'seashell',\n 'seashell',\n 'seashell',\n 'secrets',\n 'secrets',\n 'secrets',\n 'secrets',\n 'secrets',\n 'secrets',\n 'secrets',\n 'shadow',\n 'shadow',\n 'shadow',\n 'shadow',\n 'shadow',\n 'shadow',\n 'shadows',\n 'shadows',\n 'shadows',\n 'shadows',\n 'shadows',\n 'shadows',\n 'shadows',\n 'shares',\n 'shares',\n 'shares',\n 'shares',\n 'silent',\n 'silent',\n 'silent',\n 'silent',\n 'silent',\n 'silent',\n 'silent',\n 'single',\n 'single',\n 'single',\n 'single',\n 'sky',\n 'sky',\n 'sky',\n 'sky',\n 'sky',\n 'sky',\n 'sky',\n 'sparks',\n 'sparks',\n 'sparks',\n 'stands',\n 'stands',\n 'stands',\n 'stands',\n 'stands',\n 'stands',\n 'stands',\n 'stands',\n 'star',\n 'star',\n 'star',\n 'star',\n 'star',\n 'star',\n 'step',\n 'step',\n 'step',\n 'step',\n 'step',\n 'step',\n 'step',\n 'step',\n 'step',\n 'step',\n 'step',\n 'storm',\n 'storm',\n 'storm',\n 'storm',\n 'storm',\n 'storm',\n 'storm',\n 'strings',\n 'strings',\n 'strings',\n 'strings',\n 'strings',\n 'strings',\n 'strings',\n 'strings',\n 'sun',\n 'sun',\n 'sun',\n 'sun',\n 'sun',\n 'sun',\n 'sun',\n 'tales',\n 'tales',\n 'tales',\n 'tales',\n 'tales',\n 'tales',\n 'tales',\n 'the',\n 'the',\n 'the',\n 'the',\n 'the',\n 'the',\n 'the',\n 'those',\n 'those',\n 'those',\n 'those',\n 'those',\n 'those',\n 'those',\n 'those',\n 'through',\n 'through',\n 'through',\n 'through',\n 'through',\n 'through',\n 'through',\n 'through',\n 'through',\n 'through',\n 'through',\n 'through',\n 'time',\n 'time',\n 'time',\n 'time',\n 'time',\n 'time',\n 'time',\n 'time',\n 'time',\n 'time',\n 'to',\n 'to',\n 'to',\n 'to',\n 'to',\n 'to',\n 'tomorrow',\n 'tomorrow',\n 'tomorrow',\n 'tomorrow',\n 'tomorrow',\n 'tomorrow',\n 'tomorrow',\n 'tomorrow',\n 'tomorrow',\n 'tomorrow',\n 'traveled',\n 'traveled',\n 'traveled',\n 'treasures',\n 'treasures',\n 'treasures',\n 'treasures',\n 'treasures',\n 'treasures',\n 'tree',\n 'tree',\n 'tree',\n 'tree',\n 'trees',\n 'trees',\n 'trees',\n 'trees',\n 'trees',\n 'truths',\n 'truths',\n 'truths',\n 'truths',\n 'truths',\n 'truths',\n 'uncharted',\n 'uncharted',\n 'uncharted',\n 'uncharted',\n 'uncharted',\n 'under',\n 'under',\n 'under',\n 'under',\n 'under',\n 'under',\n 'under',\n 'undiscovered',\n 'undiscovered',\n 'undiscovered',\n 'undiscovered',\n 'undiscovered',\n 'undiscovered',\n 'undiscovered',\n 'undiscovered',\n 'undiscovered',\n 'undiscovered',\n 'unspoken',\n 'unspoken',\n 'unspoken',\n 'veil',\n 'veil',\n 'veil',\n 'veil',\n 'veil',\n 'voices',\n 'voices',\n 'voices',\n 'voices',\n 'voices',\n 'voices',\n 'wandering',\n 'wandering',\n 'wandering',\n 'wandering',\n 'wandering',\n 'wanders',\n 'wanders',\n 'wanders',\n 'wanders',\n 'wanders',\n 'whispering',\n 'whispering',\n 'whispering',\n 'whispering',\n 'whispering',\n 'whispering',\n 'whispering',\n 'whispers',\n 'whispers',\n 'whispers',\n 'whispers',\n 'whispers',\n 'whispers',\n 'whispers',\n 'who',\n 'who',\n 'who',\n 'who',\n 'who',\n 'who',\n 'who',\n 'who',\n 'who',\n 'wind',\n 'wind',\n 'wind',\n 'wind',\n 'wind',\n 'wind',\n 'wind',\n 'wind',\n 'wind',\n 'wind',\n 'winds',\n 'winds',\n 'winds',\n 'winds',\n 'winds',\n 'winds',\n 'winds',\n 'winds',\n 'winds',\n 'winds',\n 'winds',\n 'winds',\n 'winds',\n 'wisdom',\n 'wisdom',\n 'wisdom',\n 'wisdom',\n 'wisdom',\n 'wisdom',\n 'wise',\n 'wise',\n 'wise',\n 'wise',\n 'wise',\n 'wise',\n 'with',\n 'with',\n 'with',\n 'with',\n 'within',\n 'within',\n 'within',\n 'within',\n 'within',\n 'within',\n 'within',\n 'wolf',\n 'wolf',\n 'wolf',\n 'wolf',\n 'wolf',\n 'wolf',\n 'wolf',\n 'wolf',\n 'wolf',\n 'wolf',\n 'wolf',\n 'wolf',\n 'wolf',\n 'wonders',\n 'wonders',\n 'wonders',\n 'wonders',\n 'wonders',\n 'wonders',\n 'world',\n 'world',\n 'worlds',\n 'worlds',\n 'worlds',\n 'worlds',\n 'worlds',\n 'worlds']"
     },
     "execution_count": 63,
     "metadata": {},
     "output_type": "execute_result"
    }
   ],
   "source": [
    "a = generate_words_array(1000)\n",
    "\n",
    "a.sort()\n",
    "\n",
    "a"
   ],
   "metadata": {
    "collapsed": false,
    "ExecuteTime": {
     "end_time": "2024-03-27T10:27:01.219765Z",
     "start_time": "2024-03-27T10:27:01.179873Z"
    }
   },
   "id": "fa7f185b90fd67fb",
   "execution_count": 63
  },
  {
   "cell_type": "code",
   "outputs": [
    {
     "name": "stdout",
     "output_type": "stream",
     "text": [
      "linear: 2 binary: 2\n"
     ]
    }
   ],
   "source": [
    "c = linear_search(array=a, value='world')\n",
    "d = count_binary(array=a, value='world')\n",
    "\n",
    "print(f\"linear: {c} binary: {d}\")"
   ],
   "metadata": {
    "collapsed": false,
    "ExecuteTime": {
     "end_time": "2024-03-27T10:27:08.092407Z",
     "start_time": "2024-03-27T10:27:08.082431Z"
    }
   },
   "id": "12e65bf46d9a68d5",
   "execution_count": 64
  },
  {
   "cell_type": "code",
   "outputs": [],
   "source": [],
   "metadata": {
    "collapsed": false,
    "ExecuteTime": {
     "end_time": "2024-03-27T00:59:35.003925Z",
     "start_time": "2024-03-27T00:59:35.003925Z"
    }
   },
   "id": "253f41cd9a68ceb0"
  }
 ],
 "metadata": {
  "kernelspec": {
   "display_name": "Python 3",
   "language": "python",
   "name": "python3"
  },
  "language_info": {
   "codemirror_mode": {
    "name": "ipython",
    "version": 2
   },
   "file_extension": ".py",
   "mimetype": "text/x-python",
   "name": "python",
   "nbconvert_exporter": "python",
   "pygments_lexer": "ipython2",
   "version": "2.7.6"
  }
 },
 "nbformat": 4,
 "nbformat_minor": 5
}
